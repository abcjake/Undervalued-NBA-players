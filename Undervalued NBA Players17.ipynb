{
 "cells": [
  {
   "cell_type": "markdown",
   "metadata": {},
   "source": [
    "### Using Linear Regression to find Undervalued NBA Players\n",
    "##### Jacob Meeker\n",
    "##### 11/08/2020"
   ]
  },
  {
   "cell_type": "markdown",
   "metadata": {},
   "source": [
    "### Problem Statement/Intro:"
   ]
  },
  {
   "cell_type": "markdown",
   "metadata": {},
   "source": [
    "Can we find the most undervalued players in the League based on the available statistics?\n",
    "\n",
    "In professional sports, managing money is a very important factor to the success of a team. I will be testing linear regression models on critical variables from NBA player statistics and salaries from the 2017-2018 season find where the true value lies in each NBA player. This could be a significant tool for organizations to determine whether they can acquire a player at a good value, or by players to negotiate for what they're worth."
   ]
  },
  {
   "cell_type": "markdown",
   "metadata": {},
   "source": [
    "### Datasets:"
   ]
  },
  {
   "cell_type": "markdown",
   "metadata": {},
   "source": [
    "The datasets I will be using are NBA player salary dataset (2017-2018) https://www.kaggle.com/koki25ando/salary\n",
    "and NBA players stats between 1950-2017 https://www.kaggle.com/drgilermo/nba-players-stats.\n",
    "For this second dataset, I will only be using the data from the 2017 season. "
   ]
  },
  {
   "cell_type": "code",
   "execution_count": 1,
   "metadata": {},
   "outputs": [],
   "source": [
    "import pandas as pd\n",
    "import matplotlib.pyplot as plt\n",
    "import seaborn as sns\n",
    "import numpy as np\n",
    "from sklearn import tree\n",
    "from sklearn.decomposition import NMF\n",
    "from sklearn.preprocessing import StandardScaler\n",
    "from sklearn.decomposition import PCA\n",
    "from sklearn.decomposition import TruncatedSVD\n",
    "from sklearn.model_selection import train_test_split\n",
    "from sklearn.model_selection import cross_val_score, cross_val_predict\n",
    "from sklearn import linear_model\n",
    "from sklearn import metrics\n",
    "from sklearn.metrics import mean_squared_error\n",
    "from scipy.sparse import csr_matrix\n",
    "from sklearn.discriminant_analysis import LinearDiscriminantAnalysis"
   ]
  },
  {
   "cell_type": "code",
   "execution_count": 2,
   "metadata": {},
   "outputs": [],
   "source": [
    "salaries = pd.read_csv('NBA_17-18_salaries.csv')\n",
    "stats = pd.read_csv('Seasons_Stats.csv')"
   ]
  },
  {
   "cell_type": "code",
   "execution_count": 3,
   "metadata": {},
   "outputs": [],
   "source": [
    "# removing an unnecessary column on both datasets\n",
    "salaries = salaries.drop('Unnamed: 0',axis=1)\n",
    "stats = stats.drop('Unnamed: 0',axis=1)"
   ]
  },
  {
   "cell_type": "code",
   "execution_count": 4,
   "metadata": {},
   "outputs": [
    {
     "data": {
      "text/html": [
       "<div>\n",
       "<style scoped>\n",
       "    .dataframe tbody tr th:only-of-type {\n",
       "        vertical-align: middle;\n",
       "    }\n",
       "\n",
       "    .dataframe tbody tr th {\n",
       "        vertical-align: top;\n",
       "    }\n",
       "\n",
       "    .dataframe thead th {\n",
       "        text-align: right;\n",
       "    }\n",
       "</style>\n",
       "<table border=\"1\" class=\"dataframe\">\n",
       "  <thead>\n",
       "    <tr style=\"text-align: right;\">\n",
       "      <th></th>\n",
       "      <th>Player</th>\n",
       "      <th>Tm</th>\n",
       "      <th>season17_18</th>\n",
       "    </tr>\n",
       "  </thead>\n",
       "  <tbody>\n",
       "    <tr>\n",
       "      <th>0</th>\n",
       "      <td>Stephen Curry</td>\n",
       "      <td>GSW</td>\n",
       "      <td>34682550.0</td>\n",
       "    </tr>\n",
       "    <tr>\n",
       "      <th>1</th>\n",
       "      <td>LeBron James</td>\n",
       "      <td>CLE</td>\n",
       "      <td>33285709.0</td>\n",
       "    </tr>\n",
       "    <tr>\n",
       "      <th>2</th>\n",
       "      <td>Paul Millsap</td>\n",
       "      <td>DEN</td>\n",
       "      <td>31269231.0</td>\n",
       "    </tr>\n",
       "    <tr>\n",
       "      <th>3</th>\n",
       "      <td>Gordon Hayward</td>\n",
       "      <td>BOS</td>\n",
       "      <td>29727900.0</td>\n",
       "    </tr>\n",
       "    <tr>\n",
       "      <th>4</th>\n",
       "      <td>Blake Griffin</td>\n",
       "      <td>DET</td>\n",
       "      <td>29512900.0</td>\n",
       "    </tr>\n",
       "  </tbody>\n",
       "</table>\n",
       "</div>"
      ],
      "text/plain": [
       "           Player   Tm  season17_18\n",
       "0   Stephen Curry  GSW   34682550.0\n",
       "1    LeBron James  CLE   33285709.0\n",
       "2    Paul Millsap  DEN   31269231.0\n",
       "3  Gordon Hayward  BOS   29727900.0\n",
       "4   Blake Griffin  DET   29512900.0"
      ]
     },
     "execution_count": 4,
     "metadata": {},
     "output_type": "execute_result"
    }
   ],
   "source": [
    "# the salaries dataset is already organized from largest to smallest salary\n",
    "salaries.head()"
   ]
  },
  {
   "cell_type": "code",
   "execution_count": 5,
   "metadata": {},
   "outputs": [],
   "source": [
    "# renaming the salaries column to make it less confusing\n",
    "salaries['Salary'] = salaries['season17_18']"
   ]
  },
  {
   "cell_type": "code",
   "execution_count": 6,
   "metadata": {},
   "outputs": [],
   "source": [
    "# remove years 1950-2016 as I am only interested in the 2017-2018 season. \n",
    "stats = stats[stats.Year>=2017]"
   ]
  },
  {
   "cell_type": "markdown",
   "metadata": {},
   "source": [
    "There is duplicate data in both datasets that need to be addressed.\n",
    "Players that were traded mid-season appear 3 times in the data;\n",
    "once for their original team, once for their new team, and a third time for totals from both teams.\n",
    "I want to keep the players total stats for the whole year, which is listed first in these datasets."
   ]
  },
  {
   "cell_type": "code",
   "execution_count": 7,
   "metadata": {},
   "outputs": [
    {
     "name": "stdout",
     "output_type": "stream",
     "text": [
      "Player duplicated - True\n",
      "Player duplicated - True\n",
      "Player duplicated - False\n",
      "Player duplicated - False\n"
     ]
    }
   ],
   "source": [
    "print('Player duplicated - {}'.format(any(salaries.Player.duplicated())))\n",
    "print('Player duplicated - {}'.format(any(stats.Player.duplicated())))\n",
    "salaries = salaries.drop_duplicates(subset=['Player'], keep='first')\n",
    "stats = stats.drop_duplicates(subset=['Player'], keep='first')\n",
    "print('Player duplicated - {}'.format(any(salaries.Player.duplicated())))\n",
    "print('Player duplicated - {}'.format(any(stats.Player.duplicated())))"
   ]
  },
  {
   "cell_type": "code",
   "execution_count": 8,
   "metadata": {},
   "outputs": [],
   "source": [
    "# to get the most value out of game statistics, stats need to be on a per-game basis \n",
    "# as opposed to total values. This eliminates the effect of games played which is a massive\n",
    "# implication due to injuries, load management etc. \n",
    "\n",
    "stats['PPG'] = stats['PTS'] / stats['G']\n",
    "stats.PPG = stats.PPG.round(1)\n",
    "stats['APG'] = stats['AST'] / stats['G']\n",
    "stats.APG = stats.APG.round(1)\n",
    "stats['RPG'] = stats['TRB'] / stats['G']\n",
    "stats.RPG = stats.RPG.round(1)\n",
    "stats['SPG'] = stats['STL'] / stats['G']\n",
    "stats.SPG = stats.SPG.round(1)\n",
    "stats['BPG'] = stats['BLK'] / stats['G']\n",
    "stats.BPG = stats.BPG.round(1)\n",
    "stats['TPG'] = stats['TOV'] / stats['G']\n",
    "stats.TPG = stats.TPG.round(1)\n",
    "stats['MPG'] = stats['MP'] / stats['G']\n",
    "stats.MPG = stats.MPG.round(1)\n",
    "# creating field goal percentage column\n",
    "stats['FGP'] = stats['FG'] / stats['FGA'] * 100\n",
    "stats.FGP = stats.FGP.round(1)"
   ]
  },
  {
   "cell_type": "code",
   "execution_count": 9,
   "metadata": {
    "scrolled": true
   },
   "outputs": [
    {
     "data": {
      "image/png": "[encoded data removed]",
      "text/plain": [
       "<Figure size 432x288 with 1 Axes>"
      ]
     },
     "metadata": {
      "needs_background": "light"
     },
     "output_type": "display_data"
    }
   ],
   "source": [
    "# simple distribution of players salaries (by million)\n",
    "# as you can see, the majority of NBA players are on the lower end of the pay scale.\n",
    "\n",
    "plt.hist(salaries.season17_18/1000000, density=True, bins=35)\n",
    "plt.title('2017-2018 Player Salary Distributions')\n",
    "plt.xlabel('Salary (Millions)')\n",
    "plt.ylabel('Percentage of Players')\n",
    "plt.show()"
   ]
  },
  {
   "cell_type": "markdown",
   "metadata": {},
   "source": [
    "I made some tables to look at points per game, assists per game, and player efficiency rating leaders in the 2017-2018 season"
   ]
  },
  {
   "cell_type": "code",
   "execution_count": 10,
   "metadata": {
    "scrolled": true
   },
   "outputs": [
    {
     "data": {
      "text/html": [
       "<div>\n",
       "<style scoped>\n",
       "    .dataframe tbody tr th:only-of-type {\n",
       "        vertical-align: middle;\n",
       "    }\n",
       "\n",
       "    .dataframe tbody tr th {\n",
       "        vertical-align: top;\n",
       "    }\n",
       "\n",
       "    .dataframe thead th {\n",
       "        text-align: right;\n",
       "    }\n",
       "</style>\n",
       "<table border=\"1\" class=\"dataframe\">\n",
       "  <thead>\n",
       "    <tr style=\"text-align: right;\">\n",
       "      <th></th>\n",
       "      <th>Player</th>\n",
       "      <th>PPG</th>\n",
       "    </tr>\n",
       "  </thead>\n",
       "  <tbody>\n",
       "    <tr>\n",
       "      <th>24654</th>\n",
       "      <td>Russell Westbrook</td>\n",
       "      <td>31.6</td>\n",
       "    </tr>\n",
       "    <tr>\n",
       "      <th>24306</th>\n",
       "      <td>James Harden</td>\n",
       "      <td>29.1</td>\n",
       "    </tr>\n",
       "    <tr>\n",
       "      <th>24612</th>\n",
       "      <td>Isaiah Thomas</td>\n",
       "      <td>28.9</td>\n",
       "    </tr>\n",
       "    <tr>\n",
       "      <th>24218</th>\n",
       "      <td>Anthony Davis</td>\n",
       "      <td>28.0</td>\n",
       "    </tr>\n",
       "    <tr>\n",
       "      <th>24226</th>\n",
       "      <td>DeMar DeRozan</td>\n",
       "      <td>27.3</td>\n",
       "    </tr>\n",
       "  </tbody>\n",
       "</table>\n",
       "</div>"
      ],
      "text/plain": [
       "                  Player   PPG\n",
       "24654  Russell Westbrook  31.6\n",
       "24306       James Harden  29.1\n",
       "24612      Isaiah Thomas  28.9\n",
       "24218      Anthony Davis  28.0\n",
       "24226      DeMar DeRozan  27.3"
      ]
     },
     "execution_count": 10,
     "metadata": {},
     "output_type": "execute_result"
    }
   ],
   "source": [
    "stats.sort_values(by='PPG', ascending=False, inplace=True)\n",
    "stats[['Player', 'PPG']].head(5)"
   ]
  },
  {
   "cell_type": "code",
   "execution_count": 11,
   "metadata": {
    "scrolled": false
   },
   "outputs": [
    {
     "data": {
      "text/html": [
       "<div>\n",
       "<style scoped>\n",
       "    .dataframe tbody tr th:only-of-type {\n",
       "        vertical-align: middle;\n",
       "    }\n",
       "\n",
       "    .dataframe tbody tr th {\n",
       "        vertical-align: top;\n",
       "    }\n",
       "\n",
       "    .dataframe thead th {\n",
       "        text-align: right;\n",
       "    }\n",
       "</style>\n",
       "<table border=\"1\" class=\"dataframe\">\n",
       "  <thead>\n",
       "    <tr style=\"text-align: right;\">\n",
       "      <th></th>\n",
       "      <th>Player</th>\n",
       "      <th>PER</th>\n",
       "    </tr>\n",
       "  </thead>\n",
       "  <tbody>\n",
       "    <tr>\n",
       "      <th>24600</th>\n",
       "      <td>Jarnell Stokes</td>\n",
       "      <td>31.5</td>\n",
       "    </tr>\n",
       "    <tr>\n",
       "      <th>24362</th>\n",
       "      <td>Demetrius Jackson</td>\n",
       "      <td>30.8</td>\n",
       "    </tr>\n",
       "    <tr>\n",
       "      <th>24654</th>\n",
       "      <td>Russell Westbrook</td>\n",
       "      <td>30.6</td>\n",
       "    </tr>\n",
       "    <tr>\n",
       "      <th>24436</th>\n",
       "      <td>Boban Marjanovic</td>\n",
       "      <td>29.6</td>\n",
       "    </tr>\n",
       "    <tr>\n",
       "      <th>24239</th>\n",
       "      <td>Kevin Durant</td>\n",
       "      <td>27.6</td>\n",
       "    </tr>\n",
       "  </tbody>\n",
       "</table>\n",
       "</div>"
      ],
      "text/plain": [
       "                  Player   PER\n",
       "24600     Jarnell Stokes  31.5\n",
       "24362  Demetrius Jackson  30.8\n",
       "24654  Russell Westbrook  30.6\n",
       "24436   Boban Marjanovic  29.6\n",
       "24239       Kevin Durant  27.6"
      ]
     },
     "execution_count": 11,
     "metadata": {},
     "output_type": "execute_result"
    }
   ],
   "source": [
    "# Player Efficiency Rating\n",
    "stats.sort_values(by='PER', ascending=False, inplace=True)\n",
    "stats[['Player', 'PER']].head(5)"
   ]
  },
  {
   "cell_type": "code",
   "execution_count": 12,
   "metadata": {},
   "outputs": [
    {
     "data": {
      "text/html": [
       "<div>\n",
       "<style scoped>\n",
       "    .dataframe tbody tr th:only-of-type {\n",
       "        vertical-align: middle;\n",
       "    }\n",
       "\n",
       "    .dataframe tbody tr th {\n",
       "        vertical-align: top;\n",
       "    }\n",
       "\n",
       "    .dataframe thead th {\n",
       "        text-align: right;\n",
       "    }\n",
       "</style>\n",
       "<table border=\"1\" class=\"dataframe\">\n",
       "  <thead>\n",
       "    <tr style=\"text-align: right;\">\n",
       "      <th></th>\n",
       "      <th>Player</th>\n",
       "      <th>APG</th>\n",
       "    </tr>\n",
       "  </thead>\n",
       "  <tbody>\n",
       "    <tr>\n",
       "      <th>24306</th>\n",
       "      <td>James Harden</td>\n",
       "      <td>11.2</td>\n",
       "    </tr>\n",
       "    <tr>\n",
       "      <th>24646</th>\n",
       "      <td>John Wall</td>\n",
       "      <td>10.7</td>\n",
       "    </tr>\n",
       "    <tr>\n",
       "      <th>24654</th>\n",
       "      <td>Russell Westbrook</td>\n",
       "      <td>10.4</td>\n",
       "    </tr>\n",
       "    <tr>\n",
       "      <th>24522</th>\n",
       "      <td>Chris Paul</td>\n",
       "      <td>9.2</td>\n",
       "    </tr>\n",
       "    <tr>\n",
       "      <th>24567</th>\n",
       "      <td>Ricky Rubio</td>\n",
       "      <td>9.1</td>\n",
       "    </tr>\n",
       "  </tbody>\n",
       "</table>\n",
       "</div>"
      ],
      "text/plain": [
       "                  Player   APG\n",
       "24306       James Harden  11.2\n",
       "24646          John Wall  10.7\n",
       "24654  Russell Westbrook  10.4\n",
       "24522         Chris Paul   9.2\n",
       "24567        Ricky Rubio   9.1"
      ]
     },
     "execution_count": 12,
     "metadata": {},
     "output_type": "execute_result"
    }
   ],
   "source": [
    "stats.sort_values(by='APG', ascending=False, inplace=True)\n",
    "stats[['Player', 'APG']].head(5)"
   ]
  },
  {
   "cell_type": "markdown",
   "metadata": {},
   "source": [
    "Between the two datasets there are 55 total columns. To reduce this number, first I simply removed unnecessary columns that were irrelevant to this case study or have large amounts of missing data. "
   ]
  },
  {
   "cell_type": "code",
   "execution_count": 13,
   "metadata": {},
   "outputs": [
    {
     "data": {
      "text/plain": [
       "Index(['Player', 'PER', 'BPM', 'FGP', 'RPG', 'APG', 'SPG', 'BPG', 'PPG', 'MPG',\n",
       "       'TS%', 'FT%', 'TPG', 'Age', 'Salary'],\n",
       "      dtype='object')"
      ]
     },
     "execution_count": 13,
     "metadata": {},
     "output_type": "execute_result"
    }
   ],
   "source": [
    "#*** CONSIDER REMOVING MORE TO IMPROVE RMSE. TPG FOR SURE***\n",
    "stats2017 = stats[['Player','PER','BPM','FGP','RPG','APG','SPG','BPG','PPG','MPG', 'TS%', 'FT%', 'TPG', 'Age']]\n",
    "\n",
    "# we just need the player and their corresponding salary from this dataset\n",
    "salaries = salaries[['Player', 'Salary']]\n",
    "\n",
    "# There are matching players in both datasets so these can now be merged.\n",
    "all_stats = pd.merge(stats2017, salaries)\n",
    "all_stats.columns"
   ]
  },
  {
   "cell_type": "code",
   "execution_count": 14,
   "metadata": {},
   "outputs": [
    {
     "data": {
      "text/plain": [
       "<matplotlib.axes._subplots.AxesSubplot at 0x2041d40fcc0>"
      ]
     },
     "execution_count": 14,
     "metadata": {},
     "output_type": "execute_result"
    },
    {
     "data": {
      "image/png": "[encoded data removed]",
      "text/plain": [
       "<Figure size 432x288 with 2 Axes>"
      ]
     },
     "metadata": {},
     "output_type": "display_data"
    }
   ],
   "source": [
    "sns.set_style(\"white\")\n",
    "\n",
    "heatm = all_stats[['Salary', 'MPG', 'PPG', 'Age', 'APG', 'RPG', 'SPG', 'TPG', 'PER', 'FGP']]\n",
    "\n",
    "heatm2 = heatm.corr()\n",
    "sns.heatmap(heatm2)"
   ]
  },
  {
   "cell_type": "markdown",
   "metadata": {},
   "source": [
    "I am creating subsections 'common_stats' and 'advanced_stats' and getting their RMSE and R squared values to see which will perform better in the model. "
   ]
  },
  {
   "cell_type": "code",
   "execution_count": 15,
   "metadata": {},
   "outputs": [],
   "source": [
    "common_stats=all_stats[['FGP', 'PPG', 'APG', 'RPG']]\n",
    "advanced_stats=all_stats[['BPM', 'PER', 'MPG', 'TS%']]"
   ]
  },
  {
   "cell_type": "code",
   "execution_count": 16,
   "metadata": {},
   "outputs": [
    {
     "name": "stdout",
     "output_type": "stream",
     "text": [
      "RMSE: 5659407.056764558\n",
      "R squared: 0.45076152006290326\n"
     ]
    },
    {
     "name": "stderr",
     "output_type": "stream",
     "text": [
      "C:\\Users\\phoen\\Anaconda3\\lib\\site-packages\\ipykernel_launcher.py:13: SettingWithCopyWarning: \n",
      "A value is trying to be set on a copy of a slice from a DataFrame\n",
      "\n",
      "See the caveats in the documentation: http://pandas.pydata.org/pandas-docs/stable/indexing.html#indexing-view-versus-copy\n",
      "  del sys.path[0]\n"
     ]
    },
    {
     "data": {
      "text/plain": [
       "<function matplotlib.pyplot.show(*args, **kw)>"
      ]
     },
     "execution_count": 16,
     "metadata": {},
     "output_type": "execute_result"
    },
    {
     "data": {
      "image/png": "[encoded data removed]",
      "text/plain": [
       "<Figure size 432x288 with 1 Axes>"
      ]
     },
     "metadata": {},
     "output_type": "display_data"
    }
   ],
   "source": [
    "# Target variable (salary)\n",
    "y = all_stats.Salary\n",
    "\n",
    "# linear regression\n",
    "lm = linear_model.LinearRegression()\n",
    "\n",
    "# linear regression on the Advanced stats subset to see which scores better\n",
    "X_train, X_test, y_train, y_test = train_test_split(advanced_stats, y, train_size=0.75, random_state=120)\n",
    "lm.fit(X_train, y_train)\n",
    "predictions = lm.predict(X_test)\n",
    "\n",
    "# drop na values \n",
    "X_train.dropna(inplace=True)\n",
    "y_train.dropna(inplace=True)\n",
    "\n",
    "# cross validating the model \n",
    "predict = cross_val_predict(lm, advanced_stats, y, cv=6)\n",
    "\n",
    "# get the RMSE and R^2 values\n",
    "rmse = np.sqrt(mean_squared_error(predict, y))\n",
    "score = metrics.r2_score(y, predict)\n",
    "print('RMSE:', rmse)\n",
    "print('R squared:', score)\n",
    "\n",
    "# create a residual plot\n",
    "residuals = y - predict\n",
    "plt.scatter(predict, residuals)\n",
    "plt.xlabel('prediction for salary')\n",
    "plt.ylabel('residual values')\n",
    "plt.title('Residual plot for Advanced stats using linear regression model')\n",
    "plt.show"
   ]
  },
  {
   "cell_type": "code",
   "execution_count": 17,
   "metadata": {},
   "outputs": [
    {
     "name": "stdout",
     "output_type": "stream",
     "text": [
      "RMSE: 5369931.364836506\n",
      "R squared: 0.5055110829219226\n"
     ]
    },
    {
     "data": {
      "text/plain": [
       "<function matplotlib.pyplot.show(*args, **kw)>"
      ]
     },
     "execution_count": 17,
     "metadata": {},
     "output_type": "execute_result"
    },
    {
     "data": {
      "image/png": "[encoded data removed]",
      "text/plain": [
       "<Figure size 432x288 with 1 Axes>"
      ]
     },
     "metadata": {},
     "output_type": "display_data"
    }
   ],
   "source": [
    "X_train, X_test, y_train, y_test = train_test_split(common_stats, y, train_size=0.75, random_state=120)\n",
    "lm.fit(X_train, y_train)\n",
    "predictions = lm.predict(X_test)\n",
    "\n",
    "# cross validating the model \n",
    "predict = cross_val_predict(lm, common_stats, y, cv=6)\n",
    "\n",
    "# get the RMSE and R^2 values\n",
    "rmse = np.sqrt(mean_squared_error(predict, y))\n",
    "score = metrics.r2_score(y, predict)\n",
    "print('RMSE:', rmse)\n",
    "print('R squared:', score)\n",
    "\n",
    "# create a residual plot\n",
    "residuals = y - predict\n",
    "plt.scatter(predict, residuals)\n",
    "plt.xlabel('prediction for salary')\n",
    "plt.ylabel('residual values')\n",
    "plt.title('Residual plot for Advanced stats using linear regression model')\n",
    "plt.show"
   ]
  },
  {
   "cell_type": "markdown",
   "metadata": {},
   "source": [
    "Common stats had a Higher R square and Lower RMSE values, so that is the subsection I decided to use\n",
    "to find undervalued players"
   ]
  },
  {
   "cell_type": "code",
   "execution_count": 18,
   "metadata": {},
   "outputs": [],
   "source": [
    "# positive residuals should resemble overvalued players, \n",
    "# negative should resemble undervalued players. \n",
    "\n",
    "# adding predicted salary and residuals columns back to dataframe\n",
    "all_stats['Predicted Salary']=predict\n",
    "all_stats['Residuals']=residuals"
   ]
  },
  {
   "cell_type": "code",
   "execution_count": 19,
   "metadata": {},
   "outputs": [
    {
     "data": {
      "text/html": [
       "<div>\n",
       "<style scoped>\n",
       "    .dataframe tbody tr th:only-of-type {\n",
       "        vertical-align: middle;\n",
       "    }\n",
       "\n",
       "    .dataframe tbody tr th {\n",
       "        vertical-align: top;\n",
       "    }\n",
       "\n",
       "    .dataframe thead th {\n",
       "        text-align: right;\n",
       "    }\n",
       "</style>\n",
       "<table border=\"1\" class=\"dataframe\">\n",
       "  <thead>\n",
       "    <tr style=\"text-align: right;\">\n",
       "      <th></th>\n",
       "      <th>Player</th>\n",
       "      <th>Residuals</th>\n",
       "    </tr>\n",
       "  </thead>\n",
       "  <tbody>\n",
       "    <tr>\n",
       "      <th>93</th>\n",
       "      <td>Karl-Anthony Towns</td>\n",
       "      <td>-1.984726e+07</td>\n",
       "    </tr>\n",
       "    <tr>\n",
       "      <th>34</th>\n",
       "      <td>Nikola Jokic</td>\n",
       "      <td>-1.513688e+07</td>\n",
       "    </tr>\n",
       "    <tr>\n",
       "      <th>137</th>\n",
       "      <td>Joel Embiid</td>\n",
       "      <td>-1.267374e+07</td>\n",
       "    </tr>\n",
       "    <tr>\n",
       "      <th>79</th>\n",
       "      <td>Zach LaVine</td>\n",
       "      <td>-1.121365e+07</td>\n",
       "    </tr>\n",
       "    <tr>\n",
       "      <th>198</th>\n",
       "      <td>Kristaps Porzingis</td>\n",
       "      <td>-1.085863e+07</td>\n",
       "    </tr>\n",
       "    <tr>\n",
       "      <th>68</th>\n",
       "      <td>Devin Booker</td>\n",
       "      <td>-1.084392e+07</td>\n",
       "    </tr>\n",
       "    <tr>\n",
       "      <th>87</th>\n",
       "      <td>Jabari Parker</td>\n",
       "      <td>-1.072829e+07</td>\n",
       "    </tr>\n",
       "    <tr>\n",
       "      <th>217</th>\n",
       "      <td>Myles Turner</td>\n",
       "      <td>-1.047165e+07</td>\n",
       "    </tr>\n",
       "    <tr>\n",
       "      <th>121</th>\n",
       "      <td>Andrew Wiggins</td>\n",
       "      <td>-1.043124e+07</td>\n",
       "    </tr>\n",
       "    <tr>\n",
       "      <th>268</th>\n",
       "      <td>Clint Capela</td>\n",
       "      <td>-1.034877e+07</td>\n",
       "    </tr>\n",
       "    <tr>\n",
       "      <th>126</th>\n",
       "      <td>Dario Saric</td>\n",
       "      <td>-1.005055e+07</td>\n",
       "    </tr>\n",
       "    <tr>\n",
       "      <th>18</th>\n",
       "      <td>Isaiah Thomas</td>\n",
       "      <td>-9.989251e+06</td>\n",
       "    </tr>\n",
       "    <tr>\n",
       "      <th>58</th>\n",
       "      <td>Julius Randle</td>\n",
       "      <td>-9.672333e+06</td>\n",
       "    </tr>\n",
       "    <tr>\n",
       "      <th>45</th>\n",
       "      <td>Derrick Rose</td>\n",
       "      <td>-9.557004e+06</td>\n",
       "    </tr>\n",
       "    <tr>\n",
       "      <th>81</th>\n",
       "      <td>Jordan Crawford</td>\n",
       "      <td>-9.392397e+06</td>\n",
       "    </tr>\n",
       "    <tr>\n",
       "      <th>129</th>\n",
       "      <td>Sean Kilpatrick</td>\n",
       "      <td>-9.187494e+06</td>\n",
       "    </tr>\n",
       "    <tr>\n",
       "      <th>83</th>\n",
       "      <td>Gary Harris</td>\n",
       "      <td>-8.684305e+06</td>\n",
       "    </tr>\n",
       "    <tr>\n",
       "      <th>92</th>\n",
       "      <td>Rudy Gay</td>\n",
       "      <td>-8.256547e+06</td>\n",
       "    </tr>\n",
       "    <tr>\n",
       "      <th>246</th>\n",
       "      <td>T.J. Warren</td>\n",
       "      <td>-8.177029e+06</td>\n",
       "    </tr>\n",
       "    <tr>\n",
       "      <th>159</th>\n",
       "      <td>Jusuf Nurkic</td>\n",
       "      <td>-7.984438e+06</td>\n",
       "    </tr>\n",
       "  </tbody>\n",
       "</table>\n",
       "</div>"
      ],
      "text/plain": [
       "                 Player     Residuals\n",
       "93   Karl-Anthony Towns -1.984726e+07\n",
       "34         Nikola Jokic -1.513688e+07\n",
       "137         Joel Embiid -1.267374e+07\n",
       "79          Zach LaVine -1.121365e+07\n",
       "198  Kristaps Porzingis -1.085863e+07\n",
       "68         Devin Booker -1.084392e+07\n",
       "87        Jabari Parker -1.072829e+07\n",
       "217        Myles Turner -1.047165e+07\n",
       "121      Andrew Wiggins -1.043124e+07\n",
       "268        Clint Capela -1.034877e+07\n",
       "126         Dario Saric -1.005055e+07\n",
       "18        Isaiah Thomas -9.989251e+06\n",
       "58        Julius Randle -9.672333e+06\n",
       "45         Derrick Rose -9.557004e+06\n",
       "81      Jordan Crawford -9.392397e+06\n",
       "129     Sean Kilpatrick -9.187494e+06\n",
       "83          Gary Harris -8.684305e+06\n",
       "92             Rudy Gay -8.256547e+06\n",
       "246         T.J. Warren -8.177029e+06\n",
       "159        Jusuf Nurkic -7.984438e+06"
      ]
     },
     "execution_count": 19,
     "metadata": {},
     "output_type": "execute_result"
    }
   ],
   "source": [
    "copy=all_stats\n",
    "copy=copy[['Player', 'Residuals']]\n",
    "copy=copy.sort_values('Residuals')\n",
    "#top 10 undervalued players\n",
    "top20=copy[:20]\n",
    "top20"
   ]
  },
  {
   "cell_type": "markdown",
   "metadata": {},
   "source": [
    "### Results\n",
    "\n",
    "Here is The top 20 most undervalued NBA players from the 2017-2018 Season according to the analysis. This list makes a compelling argument and a large percentage of the players on the top 20 list were still on rookie contracts which are well known for being low-cost contracts. This reinforces the fact that the model is working for finding undervalued players. There are potential upgrades for this project. To make this more actionable, additional steps could be made to rank those who's contracts are expiring soon and are up for free agency. There is room for more experimentation on the feature reduction, tuning of hyperparameters, graph analysis post test/train split to see what other insights can be found. \n",
    "\n",
    "Additionally, sorting from the opposite side of the table should reveal which players whcih the model deems most overvalued in the 2017-18 season which could be very insightful as well. "
   ]
  }
 ],
 "metadata": {
  "kernelspec": {
   "display_name": "Python 3",
   "language": "python",
   "name": "python3"
  },
  "language_info": {
   "codemirror_mode": {
    "name": "ipython",
    "version": 3
   },
   "file_extension": ".py",
   "mimetype": "text/x-python",
   "name": "python",
   "nbconvert_exporter": "python",
   "pygments_lexer": "ipython3",
   "version": "3.7.1"
  }
 },
 "nbformat": 4,
 "nbformat_minor": 2
}
